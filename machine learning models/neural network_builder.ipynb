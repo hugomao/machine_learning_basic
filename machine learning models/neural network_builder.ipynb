{
 "cells": [
  {
   "cell_type": "code",
   "execution_count": 2,
   "metadata": {
    "collapsed": true
   },
   "outputs": [],
   "source": [
    "import numpy as np\n",
    "import pandas as pd"
   ]
  },
  {
   "cell_type": "code",
   "execution_count": 3,
   "metadata": {
    "collapsed": true
   },
   "outputs": [],
   "source": [
    "#support 0/1 classification, 3 layers\n",
    "class fnn:\n",
    "    def __init__(self,hidden_neuron_dim,x,y):\n",
    "        self.x = x\n",
    "        self.y = y\n",
    "        self.hidden_neuron_dim = hidden_neuron_dim\n",
    "        \n",
    "        self.w1 = 2 * np.random.random((self.x.shape[1], self.hidden_neuron_dim[0])) -1\n",
    "        self.w2 = 2 * np.random.random((self.hidden_neuron_dim[0], self.hidden_neuron_dim[1])) -1\n",
    "        self.w3 = 2 * np.random.random((self.hidden_neuron_dim[1], 1)) -1\n",
    "        \n",
    "    def __sigmoid(self,x):\n",
    "        return 1/(1+np.exp(-x))\n",
    "    \n",
    "    def __sigmoid_derivative(self,f):\n",
    "        return f*(1-f)\n",
    "       \n",
    "    def __forward_step(self,x,w1,w2,w3):\n",
    "        a2 = self.__sigmoid(np.dot(x, w1))\n",
    "        a3 = self.__sigmoid(np.dot(a2, w2))\n",
    "        output = self.__sigmoid(np.dot(a3, w3)) \n",
    "        return a2,a3,output\n",
    "    \n",
    "    def __backward_step(self,error,a2,a3,w1,w2,w3):\n",
    "        del3 = np.dot(w3, error.T)*(self.__sigmoid_derivative(a3).T)\n",
    "        del2 = np.dot(w2, del3)*(self.__sigmoid_derivative(a2).T)\n",
    "\n",
    "        # get adjustments (gradients) for each layer\n",
    "        adj3 = np.dot(a3.T, error)\n",
    "        adj2 = np.dot(a2.T, del3.T)\n",
    "        adj1 = np.dot(x.T, del2.T)\n",
    "        \n",
    "        return adj1,adj2,adj3\n",
    "    \n",
    "    def train(self,num_epoch,lr):\n",
    "        for i in range(num_epoch):\n",
    "            #forward propagation first\n",
    "            a2,a3,output = self.__forward_step(self.x,self.w1,self.w2,self.w3)\n",
    "\n",
    "            \n",
    "            #calculate logloss derivative\n",
    "            loss_der = (self.y - output) * self.__sigmoid_derivative(output)\n",
    "            \n",
    "            #backward propagation to update weights\n",
    "            adj1,adj2,adj3 = self.__backward_step(loss_der,a2,a3,self.w1,self.w2,self.w3)\n",
    "\n",
    "            \n",
    "            #update weights\n",
    "            self.w1 += lr*adj1\n",
    "            self.w2 += lr*adj2\n",
    "            self.w3 += lr*adj3\n",
    "\n",
    "            \n",
    "    def get_prediction(self,x):\n",
    "        return self.__forward_step(x,self.w1,self.w2,self.w3)[2]"
   ]
  },
  {
   "cell_type": "code",
   "execution_count": 4,
   "metadata": {
    "collapsed": true
   },
   "outputs": [],
   "source": [
    "from sklearn.datasets import make_circles"
   ]
  },
  {
   "cell_type": "code",
   "execution_count": 5,
   "metadata": {
    "collapsed": true
   },
   "outputs": [],
   "source": [
    "x = np.array([[3,3],[1,1],[4,3],[1,0],[2,0]])\n",
    "y = np.array([[1],[0],[1],[0],[0]])"
   ]
  },
  {
   "cell_type": "code",
   "execution_count": 6,
   "metadata": {
    "collapsed": true
   },
   "outputs": [],
   "source": [
    "fnn_test = fnn([5,2],x,y)"
   ]
  },
  {
   "cell_type": "code",
   "execution_count": 7,
   "metadata": {},
   "outputs": [],
   "source": [
    "fnn_test.train(500,1)"
   ]
  },
  {
   "cell_type": "code",
   "execution_count": 8,
   "metadata": {},
   "outputs": [
    {
     "data": {
      "text/plain": [
       "array([[ 0.96194295],\n",
       "       [ 0.05106779],\n",
       "       [ 0.96841044],\n",
       "       [ 0.00851036],\n",
       "       [ 0.00983712]])"
      ]
     },
     "execution_count": 8,
     "metadata": {},
     "output_type": "execute_result"
    }
   ],
   "source": [
    "fnn_test.get_prediction(x)"
   ]
  },
  {
   "cell_type": "code",
   "execution_count": null,
   "metadata": {
    "collapsed": true
   },
   "outputs": [],
   "source": []
  },
  {
   "cell_type": "code",
   "execution_count": null,
   "metadata": {
    "collapsed": true
   },
   "outputs": [],
   "source": []
  }
 ],
 "metadata": {
  "kernelspec": {
   "display_name": "Python 3",
   "language": "python",
   "name": "python3"
  },
  "language_info": {
   "codemirror_mode": {
    "name": "ipython",
    "version": 3
   },
   "file_extension": ".py",
   "mimetype": "text/x-python",
   "name": "python",
   "nbconvert_exporter": "python",
   "pygments_lexer": "ipython3",
   "version": "3.6.3"
  }
 },
 "nbformat": 4,
 "nbformat_minor": 2
}
